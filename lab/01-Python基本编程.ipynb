{
 "cells": [
  {
   "cell_type": "markdown",
   "metadata": {},
   "source": [
    "### 1. 找一句你钦佩的名人说的名言，将名人的姓名存储在变量famous_person 中，再将他说的名言存储在变量message 中，然后如下显示出该名人说了该名言（包括引号）：\n",
    "xxx once said, \"......\""
   ]
  },
  {
   "cell_type": "code",
   "execution_count": null,
   "metadata": {},
   "outputs": [],
   "source": [
    "famous_person = \"朱熹\"\n",
    "message = \"问渠那得清如许，为有源头活水来\"\n",
    "print(famous_person, \"once said,\", message)"
   ]
  },
  {
   "cell_type": "markdown",
   "metadata": {},
   "source": [
    "### 2. 将一些朋友的姓名存储在一个列表中，并将其命名为names。\n",
    "(1) 依次显示出列表中所有朋友的姓名；"
   ]
  },
  {
   "cell_type": "code",
   "execution_count": null,
   "metadata": {},
   "outputs": [],
   "source": [
    "names = (\"Bob\", \"Candy\", \"Alex\")\n",
    "print(names)"
   ]
  },
  {
   "cell_type": "markdown",
   "metadata": {},
   "source": [
    "(2) 将列表中的姓名按字典顺序排序后，再显示出排好序的所有朋友的姓名；"
   ]
  },
  {
   "cell_type": "code",
   "execution_count": null,
   "metadata": {},
   "outputs": [],
   "source": [
    "names = (\"Bob\", \"Candy\", \"Alex\")\n",
    "names_list = list(names)\n",
    "names_list.sort()\n",
    "print(names_list)"
   ]
  },
  {
   "cell_type": "markdown",
   "metadata": {},
   "source": [
    "(3) 将“Albert Einstein”添加到你的朋友姓名列表中；"
   ]
  },
  {
   "cell_type": "code",
   "execution_count": 19,
   "metadata": {},
   "outputs": [
    {
     "name": "stdout",
     "output_type": "stream",
     "text": [
      "['Bob', 'Candy', 'Alex', 'Albert Einstein']\n"
     ]
    }
   ],
   "source": [
    "names = (\"Bob\", \"Candy\", \"Alex\")\n",
    "names_list = list(names)\n",
    "names_list.append(\"Albert Einstein\")\n",
    "print(names_list)\n"
   ]
  },
  {
   "cell_type": "markdown",
   "metadata": {},
   "source": [
    "(4) 显示列表的长度；"
   ]
  },
  {
   "cell_type": "code",
   "execution_count": 20,
   "metadata": {},
   "outputs": [
    {
     "name": "stdout",
     "output_type": "stream",
     "text": [
      "4\n"
     ]
    }
   ],
   "source": [
    "names = (\"Bob\", \"Candy\", \"Alex\")\n",
    "names_list = list(names)\n",
    "names_list.append(\"Albert Einstein\")\n",
    "print(len(names_list))"
   ]
  },
  {
   "cell_type": "markdown",
   "metadata": {},
   "source": [
    "### 3. 创建一个列表，其中包含0~100 之间能被3 整除的所有整数；再使用一个for循环将这个列表中的元素都打印出来。\n",
    "（提示：可以使用range函数）"
   ]
  },
  {
   "cell_type": "code",
   "execution_count": null,
   "metadata": {},
   "outputs": [],
   "source": [
    "a=[x for x in range(101)if x% 3==0]\n",
    "for x in a:\n",
    "print(x)"
   ]
  },
  {
   "cell_type": "markdown",
   "metadata": {},
   "source": [
    "### 4. 给定一个字符串，统计其中出现的大写字母的个数和小写字母的个数。\n",
    "例如，如果输入的字符串为：\n",
    "\n",
    "Hello world!\n",
    "\n",
    "则输出：\n",
    "\n",
    "UPPER CASE 1\n",
    "\n",
    "LOWER CASE 9"
   ]
  },
  {
   "cell_type": "code",
   "execution_count": null,
   "metadata": {},
   "outputs": [],
   "source": [
    "input_str =input(\"输入：\")\n",
    "upper_count = 0\n",
    "lower_count = 0\n",
    "\n",
    "for char in input_str:\n",
    "if char.isupper():\n",
    "upper_count += 1\n",
    "elif char.islower():\n",
    "lower_count += 1\n",
    "\n",
    "print(\"UPPER CASE\", upper_count)\n",
    "print(\"LOWER CASE\", lower_count)"
   ]
  },
  {
   "cell_type": "markdown",
   "metadata": {},
   "source": [
    "### 5. 给你一个整数组成的列表L，按照下列条件输出：\n",
    "* 若L是升序排列的,则输出\"UP\";\n",
    "* 若L是降序排列的,则输出\"DOWN\";\n",
    "* 若L无序，则输出\"WRONG\"。"
   ]
  },
  {
   "cell_type": "code",
   "execution_count": null,
   "metadata": {},
   "outputs": [],
   "source": [
    "input_str = input(\"输入：\")\n",
    "L = [int(x) for x in input_str.split(',')]\n",
    "\n",
    "if sorted(L) == L:\n",
    "print(\"UP\")\n",
    "elif sorted(L, reverse=True) == L:\n",
    "print(\"DOWN\")\n",
    "else:\n",
    "print(\"WRONG\")"
   ]
  },
  {
   "cell_type": "markdown",
   "metadata": {},
   "source": [
    "### 6. 互联网上的每台计算机都有一个IP，合法的IP格式为：A.B.C.D。其中A、B、C、D均为[0, 255]中的整数。为了简单起见，我们规定这四个整数中不允许有前导零存在，如001。现在给你一个字符串s（s不含空白符），请你判断s是不是合法IP，若是，输出Yes，否则输出No。如：s=“202.115.32.24”，则输出Yes；s=“a.11.11.11”, 则输出No。"
   ]
  },
  {
   "cell_type": "code",
   "execution_count": 17,
   "metadata": {},
   "outputs": [
    {
     "name": "stdin",
     "output_type": "stream",
     "text": [
      " 202.115.32.24\n"
     ]
    },
    {
     "name": "stdout",
     "output_type": "stream",
     "text": [
      "This dinner is good!\n"
     ]
    }
   ],
   "source": [
    "def is_valid_ip(s):\n",
    "    parts = s.split('.')\n",
    "    \n",
    "    if len(parts) != 4:\n",
    "        return \"No\"\n",
    "    \n",
    "    for part in parts:\n",
    "        if not part.isdigit() or not 0 <= int(part) <= 255 or (len(part) > 1 and part[0] == '0'):\n",
    "            return \"No\"\n",
    "    \n",
    "    return \"Yes\"\n",
    "\n",
    "ip = input()\n",
    "result1= is_valid_ip(ip)\n",
    "print(result) "
   ]
  },
  {
   "cell_type": "markdown",
   "metadata": {},
   "source": [
    "### 7. 给定一个包含多个字符串的列表，返回一个排好序的字符串列表，除了先把其中所有以‘x’的字符串放在一起排在最前面之外。\n",
    "例如，如果输入的字符串列表为：\n",
    "\n",
    "['mix', 'xyz', 'apple', 'xanadu', 'aardvark']\n",
    "\n",
    "则输出的列表为：\n",
    "\n",
    "['xanadu', 'xyz', 'aardvark', 'apple', 'mix']\n",
    "\n",
    "（提示：可以先生成两个列表，分别排序后，再拼在一起。）"
   ]
  },
  {
   "cell_type": "code",
   "execution_count": 15,
   "metadata": {},
   "outputs": [
    {
     "name": "stdin",
     "output_type": "stream",
     "text": [
      " ['mix', 'xyz', 'apple', 'xanadu', 'aardvark']\n"
     ]
    },
    {
     "name": "stdout",
     "output_type": "stream",
     "text": [
      "['x', 'x', 'x', ' ', ' ', ' ', ' ', \"'\", \"'\", \"'\", \"'\", \"'\", \"'\", \"'\", \"'\", \"'\", \"'\", ',', ',', ',', ',', '[', ']', 'a', 'a', 'a', 'a', 'a', 'a', 'd', 'd', 'e', 'i', 'k', 'l', 'm', 'n', 'p', 'p', 'r', 'r', 'u', 'v', 'y', 'z']\n"
     ]
    }
   ],
   "source": [
    "def sort_strings_with_x_first(strings):\n",
    "    x_list = [s for s in strings if s.startswith('x')]\n",
    "    non_x_list = [s for s in strings if not s.startswith('x')]\n",
    "\n",
    "    return sorted(x_list) + sorted(non_x_list)\n",
    "\n",
    "input_strings = input()\n",
    "sorted_strings = sort_strings_with_x_first(input_strings)\n",
    "print(sorted_strings)"
   ]
  },
  {
   "cell_type": "markdown",
   "metadata": {},
   "source": [
    "### 8. 创建一个名为cities 的字典，其中将三个城市名用作键；对于每座城市，都创建一个字典，并在其中包含该城市所属的国家、人口约数以及一个有关该城市的事实。在表示每座城市的字典中，应包含country、population 和fact 等键。将每座城市的名字以及有关它们的信息都打印出来。"
   ]
  },
  {
   "cell_type": "code",
   "execution_count": 10,
   "metadata": {},
   "outputs": [
    {
     "name": "stdout",
     "output_type": "stream",
     "text": [
      "City: Tokyo\n",
      "Country: Japan\n",
      "Population: 13.5 million\n",
      "Fact: Tokyo is the capital of Japan and one of the most populous cities in the world.\n",
      "\n",
      "City: Paris\n",
      "Country: France\n",
      "Population: 2.1 million\n",
      "Fact: Paris is known for its art, fashion, gastronomy, and culture.\n",
      "\n",
      "City: New York City\n",
      "Country: United States\n",
      "Population: 8.4 million\n",
      "Fact: New York City is the largest city in the United States and a major cultural and financial hub.\n",
      "\n"
     ]
    }
   ],
   "source": [
    "cities = {\n",
    "    'Tokyo': {\n",
    "        'country': 'Japan',\n",
    "        'population': '13.5 million',\n",
    "        'fact': 'Tokyo is the capital of Japan and one of the most populous cities in the world.'\n",
    "    },\n",
    "    'Paris': {\n",
    "        'country': 'France',\n",
    "        'population': '2.1 million',\n",
    "        'fact': 'Paris is known for its art, fashion, gastronomy, and culture.'\n",
    "    },\n",
    "    'New York City': {\n",
    "        'country': 'United States',\n",
    "        'population': '8.4 million',\n",
    "        'fact': 'New York City is the largest city in the United States and a major cultural and financial hub.'\n",
    "    }\n",
    "}\n",
    "\n",
    "for city, city_info in cities.items():\n",
    "    print(f\"City: {city}\")\n",
    "    print(f\"Country: {city_info['country']}\")\n",
    "    print(f\"Population: {city_info['population']}\")\n",
    "    print(f\"Fact: {city_info['fact']}\")\n",
    "    print()"
   ]
  },
  {
   "cell_type": "markdown",
   "metadata": {},
   "source": [
    "### 9. 给你一个时间t，t是一个字典，共有六个字符串键(year, month, day, hour, minute, second)，每个值为数字组成的字符串，如t = {‘year’:‘2013’, ‘month’:‘9’, ‘day’:‘30’, ‘hour’:‘16’, ‘minute’:‘45’, ‘second’:‘2‘}。请将其按照以下格式输出：XXXX-XX-XX XX:XX:XX。如上例应该输出：2013-09-30 16:45:02。"
   ]
  },
  {
   "cell_type": "code",
   "execution_count": 11,
   "metadata": {},
   "outputs": [
    {
     "name": "stdout",
     "output_type": "stream",
     "text": [
      "2013-09-30 16:45:02\n"
     ]
    }
   ],
   "source": [
    "t = {'year': '2013', 'month': '9', 'day': '30', 'hour': '16', 'minute': '45', 'second': '2'}\n",
    "\n",
    "formatted_time = f\"{t['year']}-{t['month'].zfill(2)}-{t['day'].zfill(2)} {t['hour'].zfill(2)}:{t['minute'].zfill(2)}:{t['second'].zfill(2)}\"\n",
    "print(formatted_time)"
   ]
  },
  {
   "cell_type": "markdown",
   "metadata": {},
   "source": [
    "### 10. 编写一个名为not_bad()的函数，其中包含一个名为sentence的形参。传入一个字符串，该函数先找到子串“not”和“bad”在该字符串中的第一次出现。如果\"bad\"在\"not\"之后出现，则把整个子串“not......bad”替换为“good”。然后返回替换完的整个字符串。\n",
    "例如，如果传入sentence的字符串为：\n",
    "\n",
    "'This dinner is not that bad!'\n",
    "\n",
    "则not_bad()函数应该返回字符串：\n",
    "\n",
    "'This dinner is good!'"
   ]
  },
  {
   "cell_type": "code",
   "execution_count": 12,
   "metadata": {},
   "outputs": [
    {
     "name": "stdin",
     "output_type": "stream",
     "text": [
      "输入： This dinner is not that bad!\n"
     ]
    },
    {
     "name": "stdout",
     "output_type": "stream",
     "text": [
      "This dinner is good!\n"
     ]
    }
   ],
   "source": [
    "def not_bad(sentence):\n",
    "    not_index = sentence.find('not')\n",
    "    bad_index = sentence.find('bad')\n",
    "\n",
    "    if not_index != -1 and bad_index != -1 and bad_index > not_index:\n",
    "        return sentence[:not_index] + 'good' + sentence[bad_index + 3:]\n",
    "    else:\n",
    "        return sentence\n",
    "\n",
    "sentence = input(\"输入：\")\n",
    "result = not_bad(sentence)\n",
    "print(result)"
   ]
  },
  {
   "cell_type": "code",
   "execution_count": null,
   "metadata": {},
   "outputs": [],
   "source": []
  }
 ],
 "metadata": {
  "kernelspec": {
   "display_name": "Python 3 (ipykernel)",
   "language": "python",
   "name": "python3"
  },
  "language_info": {
   "codemirror_mode": {
    "name": "ipython",
    "version": 3
   },
   "file_extension": ".py",
   "mimetype": "text/x-python",
   "name": "python",
   "nbconvert_exporter": "python",
   "pygments_lexer": "ipython3",
   "version": "3.11.7"
  }
 },
 "nbformat": 4,
 "nbformat_minor": 4
}
