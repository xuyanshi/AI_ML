{
 "cells": [
  {
   "cell_type": "markdown",
   "metadata": {
    "run_control": {
     "marked": true
    }
   },
   "source": [
    "此次练习中，我们使用[Human Activity Recognition Using Smartphones](https://archive.ics.uci.edu/ml/datasets/Human+Activity+Recognition+Using+Smartphones)数据集。它通过对参加测试者的智能手机上安装里一个传感器而采集了参加测试者每天的日常活动（ADL）。目标是将日常活动分成六类（walking, walking upstairs, walking downstairs, sitting, standing, and laying）。\n",
    "\n",
    "该数据集也可以在Kaggle网站上获得：https://www.kaggle.com/uciml/human-activity-recognition-with-smartphones/downloads/human-activity-recognition-with-smartphones.zip \n",
    "\n",
    "把训练文件重新命名为 Human_Activity_Recognition_Using_Smartphones_Data.csv "
   ]
  },
  {
   "cell_type": "markdown",
   "metadata": {
    "run_control": {
     "marked": true
    }
   },
   "source": [
    "## 第一步：导入数据\n",
    "\n",
    "* 查看数据类型---因为有太多的列，所以最好使用value_counts\n",
    "* 判断其中的小数数值是否需要尺度缩放\n",
    "* 检查数据中各活动类型的划分\n",
    "* 把活动类型标签编码成一个整数"
   ]
  },
  {
   "cell_type": "code",
   "execution_count": 51,
   "metadata": {
    "run_control": {
     "marked": true
    }
   },
   "outputs": [],
   "source": [
    "import pandas as pd\n",
    "import numpy as np\n",
    "\n",
    "filepath = 'Human_Activity_Recognition_Using_Smartphones_Data.csv'\n",
    "data = pd.read_csv(filepath)"
   ]
  },
  {
   "cell_type": "markdown",
   "metadata": {
    "run_control": {
     "marked": true
    }
   },
   "source": [
    "所有列的数据类型都是浮点数，除了活动标签列。"
   ]
  },
  {
   "cell_type": "code",
   "execution_count": 52,
   "metadata": {
    "run_control": {
     "marked": true
    }
   },
   "outputs": [
    {
     "data": {
      "text/plain": [
       "float64    561\n",
       "int64        1\n",
       "object       1\n",
       "dtype: int64"
      ]
     },
     "execution_count": 52,
     "metadata": {},
     "output_type": "execute_result"
    }
   ],
   "source": [
    "data.dtypes.value_counts()"
   ]
  },
  {
   "cell_type": "code",
   "execution_count": 53,
   "metadata": {
    "run_control": {
     "marked": true
    }
   },
   "outputs": [
    {
     "data": {
      "text/plain": [
       "angle(X,gravityMean)    float64\n",
       "angle(Y,gravityMean)    float64\n",
       "angle(Z,gravityMean)    float64\n",
       "subject                   int64\n",
       "Activity                 object\n",
       "dtype: object"
      ]
     },
     "execution_count": 53,
     "metadata": {},
     "output_type": "execute_result"
    }
   ],
   "source": [
    "data.dtypes.tail()"
   ]
  },
  {
   "cell_type": "markdown",
   "metadata": {
    "run_control": {
     "marked": true
    }
   },
   "source": [
    "数据都已经全部被缩放到-1到1之间了。"
   ]
  },
  {
   "cell_type": "code",
   "execution_count": 54,
   "metadata": {
    "run_control": {
     "marked": true
    }
   },
   "outputs": [
    {
     "data": {
      "text/plain": [
       "-1.000000    466\n",
       "-1.000000      2\n",
       "-0.999893      2\n",
       "-0.999996      2\n",
       "-0.995377      2\n",
       "-0.963099      1\n",
       "-0.999998      1\n",
       "-0.899914      1\n",
       "-0.954173      1\n",
       "-0.773597      1\n",
       "-0.931208      1\n",
       "-0.493874      1\n",
       "-0.966591      1\n",
       "-1.000000      1\n",
       "-0.947304      1\n",
       "-0.999873      1\n",
       "-1.000000      1\n",
       "-0.999960      1\n",
       "-0.999658      1\n",
       "-0.905918      1\n",
       "-0.999162      1\n",
       "-0.799069      1\n",
       "-0.954486      1\n",
       "-0.999994      1\n",
       "-0.966345      1\n",
       "-0.953894      1\n",
       "-0.999994      1\n",
       "-0.999999      1\n",
       " 1.000000      1\n",
       "-0.999983      1\n",
       "            ... \n",
       "-0.617636      1\n",
       "-0.999849      1\n",
       "-0.999997      1\n",
       "-0.999857      1\n",
       "-0.895269      1\n",
       "-0.997664      1\n",
       "-0.999152      1\n",
       "-0.568157      1\n",
       "-0.914050      1\n",
       "-0.753754      1\n",
       "-0.995357      1\n",
       "-0.925897      1\n",
       "-0.759790      1\n",
       "-0.998014      1\n",
       "-0.908981      1\n",
       "-0.999967      1\n",
       "-0.999999      1\n",
       "-0.999999      1\n",
       "-0.830559      1\n",
       "-1.000000      1\n",
       "-0.999889      1\n",
       "-0.999989      1\n",
       "-0.535222      1\n",
       "-0.554000      1\n",
       "-1.000000      1\n",
       "-0.999835      1\n",
       "-1.000000      1\n",
       "-0.976580      1\n",
       "-0.943439      1\n",
       "-0.999996      1\n",
       "Length: 93, dtype: int64"
      ]
     },
     "execution_count": 54,
     "metadata": {},
     "output_type": "execute_result"
    }
   ],
   "source": [
    "data.iloc[:, :-1].min().value_counts()"
   ]
  },
  {
   "cell_type": "code",
   "execution_count": 55,
   "metadata": {
    "run_control": {
     "marked": true
    }
   },
   "outputs": [
    {
     "data": {
      "text/plain": [
       "1.000000    452\n",
       "0.994731      2\n",
       "0.968307      1\n",
       "0.974333      1\n",
       "0.465197      1\n",
       "0.624373      1\n",
       "0.928416      1\n",
       "0.968254      1\n",
       "0.945207      1\n",
       "0.992636      1\n",
       "0.894495      1\n",
       "0.978449      1\n",
       "0.991592      1\n",
       "0.919662      1\n",
       "0.975550      1\n",
       "0.880335      1\n",
       "0.881452      1\n",
       "0.925207      1\n",
       "0.836860      1\n",
       "0.807078      1\n",
       "0.996078      1\n",
       "0.999015      1\n",
       "0.920890      1\n",
       "0.857113      1\n",
       "0.914147      1\n",
       "0.794498      1\n",
       "0.996585      1\n",
       "0.821090      1\n",
       "0.969311      1\n",
       "0.999269      1\n",
       "           ... \n",
       "0.933547      1\n",
       "0.897898      1\n",
       "0.956845      1\n",
       "0.806452      1\n",
       "0.993741      1\n",
       "0.960000      1\n",
       "0.967664      1\n",
       "0.923077      1\n",
       "0.904480      1\n",
       "0.985138      1\n",
       "0.930317      1\n",
       "0.908361      1\n",
       "0.914892      1\n",
       "0.678628      1\n",
       "0.641321      1\n",
       "0.923377      1\n",
       "0.805064      1\n",
       "0.660042      1\n",
       "0.975855      1\n",
       "0.964576      1\n",
       "0.632415      1\n",
       "0.997207      1\n",
       "0.807375      1\n",
       "0.903571      1\n",
       "0.993524      1\n",
       "0.949350      1\n",
       "0.846610      1\n",
       "0.836728      1\n",
       "0.914345      1\n",
       "0.738953      1\n",
       "Length: 110, dtype: int64"
      ]
     },
     "execution_count": 55,
     "metadata": {},
     "output_type": "execute_result"
    }
   ],
   "source": [
    "data.iloc[:, :-1].max().value_counts()"
   ]
  },
  {
   "cell_type": "markdown",
   "metadata": {},
   "source": [
    "检查数据中各活动类型的划分---已经比较平衡了。"
   ]
  },
  {
   "cell_type": "code",
   "execution_count": 56,
   "metadata": {},
   "outputs": [
    {
     "data": {
      "text/plain": [
       "LAYING                1407\n",
       "STANDING              1374\n",
       "SITTING               1286\n",
       "WALKING               1226\n",
       "WALKING_UPSTAIRS      1073\n",
       "WALKING_DOWNSTAIRS     986\n",
       "Name: Activity, dtype: int64"
      ]
     },
     "execution_count": 56,
     "metadata": {},
     "output_type": "execute_result"
    }
   ],
   "source": [
    "data.Activity.value_counts()"
   ]
  },
  {
   "cell_type": "markdown",
   "metadata": {},
   "source": [
    "Scikit learn的分类器不接受一个稀疏矩阵作为预测列。所以，可以使用`LabelEncoder`将活动标签编码为整数。"
   ]
  },
  {
   "cell_type": "code",
   "execution_count": 57,
   "metadata": {},
   "outputs": [
    {
     "data": {
      "text/plain": [
       "4894    2\n",
       "1635    2\n",
       "983     5\n",
       "4757    1\n",
       "2267    1\n",
       "Name: Activity, dtype: int64"
      ]
     },
     "execution_count": 57,
     "metadata": {},
     "output_type": "execute_result"
    }
   ],
   "source": [
    "from sklearn.preprocessing import LabelEncoder\n",
    "\n",
    "le = LabelEncoder()\n",
    "data['Activity'] = le.fit_transform(data.Activity)\n",
    "data['Activity'].sample(5)"
   ]
  },
  {
   "cell_type": "markdown",
   "metadata": {},
   "source": [
    "## 第二步：划分训练数据和测试数据\n",
    "\n",
    "* 可以考虑使用Scikit-learn中的`StratifiedShuffleSplit`，以保证划分后的数据集中每个类别个案的比例与整个数据集相同。\n"
   ]
  },
  {
   "cell_type": "code",
   "execution_count": 58,
   "metadata": {},
   "outputs": [],
   "source": [
    "feature_cols = data.columns[:-1]\n",
    "\n",
    "from sklearn.model_selection import StratifiedShuffleSplit\n",
    "\n",
    "# Get the split indexes\n",
    "strat_shuf_split = StratifiedShuffleSplit(n_splits=1,test_size=0.3, random_state=42)\n",
    "\n",
    "train_idx, test_idx = next(strat_shuf_split.split(data[feature_cols], data.Activity))\n",
    "\n",
    "# Create the dataframes\n",
    "X_train = data.loc[train_idx, feature_cols]\n",
    "y_train = data.loc[train_idx, 'Activity']\n",
    "\n",
    "X_test  = data.loc[test_idx, feature_cols]\n",
    "y_test  = data.loc[test_idx, 'Activity']"
   ]
  },
  {
   "cell_type": "code",
   "execution_count": 59,
   "metadata": {},
   "outputs": [
    {
     "data": {
      "text/plain": [
       "0    0.191411\n",
       "2    0.186941\n",
       "1    0.174893\n",
       "3    0.166731\n",
       "5    0.145939\n",
       "4    0.134085\n",
       "Name: Activity, dtype: float64"
      ]
     },
     "execution_count": 59,
     "metadata": {},
     "output_type": "execute_result"
    }
   ],
   "source": [
    "y_train.value_counts(normalize=True)"
   ]
  },
  {
   "cell_type": "code",
   "execution_count": 60,
   "metadata": {},
   "outputs": [
    {
     "data": {
      "text/plain": [
       "0    0.191296\n",
       "2    0.186763\n",
       "1    0.174977\n",
       "3    0.166818\n",
       "5    0.145966\n",
       "4    0.134180\n",
       "Name: Activity, dtype: float64"
      ]
     },
     "execution_count": 60,
     "metadata": {},
     "output_type": "execute_result"
    }
   ],
   "source": [
    "y_test.value_counts(normalize=True)"
   ]
  },
  {
   "cell_type": "markdown",
   "metadata": {},
   "source": [
    "## 第三步：训练模型\n",
    "\n",
    "* 用所有特征训练一个基本的使用缺省参数的逻辑回归模型。\n",
    "* 分别用L1和L2正则化来训练一个模型，使用交叉验证确定超参数的值。注意，正则化模型，尤其是L1模型可能需要一定训练时间。"
   ]
  },
  {
   "cell_type": "code",
   "execution_count": 63,
   "metadata": {},
   "outputs": [],
   "source": [
    "# 请在此处填写你的代码（训练一个基本的使用缺省参数的逻辑回归模型）\n"
   ]
  },
  {
   "cell_type": "code",
   "execution_count": 62,
   "metadata": {},
   "outputs": [],
   "source": [
    "from sklearn.linear_model import LogisticRegressionCV\n",
    "\n",
    "# L1 正则化的逻辑回归\n",
    "lr_l1 = LogisticRegressionCV(Cs=10, cv=4, penalty='l1', solver='liblinear').fit(X_train, y_train)"
   ]
  },
  {
   "cell_type": "code",
   "execution_count": 32,
   "metadata": {},
   "outputs": [],
   "source": [
    "# 请在此处填写你的代码（L2 正则化的逻辑回归）\n"
   ]
  },
  {
   "cell_type": "markdown",
   "metadata": {},
   "source": [
    "## 第四步：\n",
    "\n",
    "* 输出上面训练出的三个模型中每个特征的系数；\n",
    "* 并绘制成图来比较它们的差异 （每个类别一张图）"
   ]
  },
  {
   "cell_type": "code",
   "execution_count": 33,
   "metadata": {},
   "outputs": [],
   "source": [
    "# 请在此处填写你的代码（输出各模型训练到的特征系数值）\n"
   ]
  },
  {
   "cell_type": "code",
   "execution_count": 34,
   "metadata": {},
   "outputs": [],
   "source": [
    "# 请在此处填写你的代码（绘制6张图）\n"
   ]
  },
  {
   "cell_type": "markdown",
   "metadata": {},
   "source": [
    "## 第五步：预测数据\n",
    "\n",
    "* 将每个模型预测的类别和概率值都保存下来。"
   ]
  },
  {
   "cell_type": "code",
   "execution_count": 35,
   "metadata": {},
   "outputs": [],
   "source": [
    "# 请在此处填写你的代码\n"
   ]
  },
  {
   "cell_type": "markdown",
   "metadata": {},
   "source": [
    "## 第六步：评价模型\n",
    "\n",
    "对每个模型，分别计算下面的各评测指标值： \n",
    "\n",
    "* accuracy\n",
    "* precision\n",
    "* recall\n",
    "* fscore\n",
    "* confusion matrix"
   ]
  },
  {
   "cell_type": "code",
   "execution_count": 30,
   "metadata": {},
   "outputs": [],
   "source": [
    "# 请在此处填写你的代码\n"
   ]
  }
 ],
 "metadata": {
  "kernelspec": {
   "display_name": "Python 3",
   "language": "python",
   "name": "python3"
  },
  "language_info": {
   "codemirror_mode": {
    "name": "ipython",
    "version": 3
   },
   "file_extension": ".py",
   "mimetype": "text/x-python",
   "name": "python",
   "nbconvert_exporter": "python",
   "pygments_lexer": "ipython3",
   "version": "3.6.3"
  }
 },
 "nbformat": 4,
 "nbformat_minor": 2
}
