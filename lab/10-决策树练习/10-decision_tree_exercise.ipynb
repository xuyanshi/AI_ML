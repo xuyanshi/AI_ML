{
 "cells": [
  {
   "cell_type": "markdown",
   "metadata": {},
   "source": [
    "# 决策树练习"
   ]
  },
  {
   "cell_type": "markdown",
   "metadata": {},
   "source": [
    "这次练习中，我们将使用葡萄酒质量数据集。该数据集包含葡萄酒的各种化学性质，如酸度、糖分、PH值和酒精含量等，还包括两列分别表示葡萄酒的质量（3-9，越高越好）和酒的颜色（红或者白）。数据保存在`Wine_Quality_Data.csv`文件中。"
   ]
  },
  {
   "cell_type": "markdown",
   "metadata": {},
   "source": [
    "## 第一步：\n",
    "\n",
    "* 导入数据并检查特征的类型\n",
    "* 使用所有特征预测 `color` (white 或者 red)，但是颜色特征需要编码成整数"
   ]
  },
  {
   "cell_type": "code",
   "execution_count": null,
   "metadata": {
    "ExecuteTime": {
     "end_time": "2017-05-09T23:59:21.203609Z",
     "start_time": "2017-05-09T23:59:20.517816Z"
    }
   },
   "outputs": [],
   "source": [
    "# 读入数据\n"
   ]
  },
  {
   "cell_type": "code",
   "execution_count": null,
   "metadata": {
    "ExecuteTime": {
     "end_time": "2017-05-09T23:59:21.252443Z",
     "start_time": "2017-05-09T23:59:21.240366Z"
    }
   },
   "outputs": [],
   "source": [
    "# 检查特征的数据类型\n"
   ]
  },
  {
   "cell_type": "code",
   "execution_count": null,
   "metadata": {
    "ExecuteTime": {
     "end_time": "2017-05-09T23:59:21.265375Z",
     "start_time": "2017-05-09T23:59:21.255260Z"
    }
   },
   "outputs": [],
   "source": [
    "# 把color特征值转换成整数（如'white'是0, 'red'是1）\n"
   ]
  },
  {
   "cell_type": "markdown",
   "metadata": {},
   "source": [
    "## 第二步：\n",
    "\n",
    "* 生成X和y（使用除'color'外的全部特征列做X，‘color'列做y）\n",
    "* 划分训练集和测试集，使得测试集中包含1000条数据\n",
    "* 分别检查测试集和训练集中不同类别的样例的个数"
   ]
  },
  {
   "cell_type": "code",
   "execution_count": null,
   "metadata": {
    "ExecuteTime": {
     "end_time": "2017-05-09T23:59:21.274460Z",
     "start_time": "2017-05-09T23:59:21.270038Z"
    }
   },
   "outputs": [],
   "source": [
    "# 生成X和y\n"
   ]
  },
  {
   "cell_type": "code",
   "execution_count": null,
   "metadata": {
    "ExecuteTime": {
     "end_time": "2017-05-09T23:59:21.627973Z",
     "start_time": "2017-05-09T23:59:21.283564Z"
    }
   },
   "outputs": [],
   "source": [
    "# 划分训练集和测试集，使得测试集中包含1000条数据\n"
   ]
  },
  {
   "cell_type": "code",
   "execution_count": null,
   "metadata": {},
   "outputs": [],
   "source": [
    "# 分别检查测试集和训练集中不同类别的样例的个数\n"
   ]
  },
  {
   "cell_type": "markdown",
   "metadata": {},
   "source": [
    "## 第三步：\n",
    "\n",
    "* 在训练集上训练一个没有对树的最大深度、特征及叶子节点等方面有任何限制的决策树分类器\n",
    "* 绘制并显示决策树\n",
    "* 评价这棵树分别在训练数据和测试数据上的预测效果（精度、查全率、查准率、F1），并思考其现象"
   ]
  },
  {
   "cell_type": "code",
   "execution_count": null,
   "metadata": {
    "ExecuteTime": {
     "end_time": "2017-05-09T23:59:21.711217Z",
     "start_time": "2017-05-09T23:59:21.651488Z"
    }
   },
   "outputs": [],
   "source": [
    "# 在训练集上训练一个没有对树的最大深度、特征及叶子节点等方面有任何限制的决策树分类器\n"
   ]
  },
  {
   "cell_type": "code",
   "execution_count": null,
   "metadata": {
    "ExecuteTime": {
     "end_time": "2017-05-09T23:59:21.717346Z",
     "start_time": "2017-05-09T23:59:21.712743Z"
    }
   },
   "outputs": [],
   "source": [
    "# 绘制并显示决策树\n"
   ]
  },
  {
   "cell_type": "code",
   "execution_count": null,
   "metadata": {
    "ExecuteTime": {
     "end_time": "2017-05-09T23:59:21.730535Z",
     "start_time": "2017-05-09T23:59:21.723077Z"
    }
   },
   "outputs": [],
   "source": [
    "# 评价这棵树分别在训练数据和测试数据上的预测效果\n"
   ]
  },
  {
   "cell_type": "markdown",
   "metadata": {},
   "source": [
    "## 第四步：\n",
    "\n",
    "* 使用带交叉验证的网格搜索（调节'max_depth'和‘max_features'两个参数，并使用'accuracy’为评价指标），得到一个更好的决策树分类器。\n",
    "* 绘制并显示新的决策树\n",
    "* 评价这棵树分别在训练数据和测试数据上的预测效果（精度、查全率、查准率、F1），并和第三步的结果比较"
   ]
  },
  {
   "cell_type": "code",
   "execution_count": null,
   "metadata": {
    "ExecuteTime": {
     "end_time": "2017-05-09T23:59:24.274020Z",
     "start_time": "2017-05-09T23:59:21.753343Z"
    }
   },
   "outputs": [],
   "source": [
    "# 使用带交叉验证的网格搜索，得到一个更好的决策树分类器。\n"
   ]
  },
  {
   "cell_type": "code",
   "execution_count": null,
   "metadata": {
    "ExecuteTime": {
     "end_time": "2017-05-09T23:59:24.280804Z",
     "start_time": "2017-05-09T23:59:24.275977Z"
    }
   },
   "outputs": [],
   "source": [
    "# 绘制并显示新的决策树\n"
   ]
  },
  {
   "cell_type": "code",
   "execution_count": null,
   "metadata": {
    "ExecuteTime": {
     "end_time": "2017-05-09T23:59:24.295309Z",
     "start_time": "2017-05-09T23:59:24.282493Z"
    }
   },
   "outputs": [],
   "source": [
    "# 评价这棵树分别在训练数据和测试数据上的预测效果\n"
   ]
  },
  {
   "cell_type": "markdown",
   "metadata": {},
   "source": [
    "## 第五步：\n",
    "\n",
    "* 重新生成X和y，使用`residual_sugar`列做y，用其他列做X\n",
    "* 划分训练集和测试集\n",
    "* 使用带交叉验证的网格搜索，找到一个最优的决策回归树模型\n",
    "* 评价其在训练和测试数据上的预测效果（均方误差）\n",
    "* 将测试数据上的真实residual_sugar值和预测的值绘制成一个散点图"
   ]
  },
  {
   "cell_type": "code",
   "execution_count": null,
   "metadata": {
    "ExecuteTime": {
     "end_time": "2017-05-09T23:59:24.317443Z",
     "start_time": "2017-05-09T23:59:24.305043Z"
    }
   },
   "outputs": [],
   "source": [
    "# 重新生成X和y，使用residual_sugar列做y，用其他列做X\n"
   ]
  },
  {
   "cell_type": "code",
   "execution_count": null,
   "metadata": {
    "ExecuteTime": {
     "end_time": "2017-05-09T23:59:28.931614Z",
     "start_time": "2017-05-09T23:59:24.318919Z"
    }
   },
   "outputs": [],
   "source": [
    "# 划分训练集和测试集\n"
   ]
  },
  {
   "cell_type": "code",
   "execution_count": null,
   "metadata": {
    "ExecuteTime": {
     "end_time": "2017-05-09T23:59:28.941182Z",
     "start_time": "2017-05-09T23:59:28.933876Z"
    }
   },
   "outputs": [],
   "source": [
    "# 使用带交叉验证的网格搜索，找到一个最优的决策回归树模型\n"
   ]
  },
  {
   "cell_type": "code",
   "execution_count": null,
   "metadata": {
    "ExecuteTime": {
     "end_time": "2017-05-09T23:59:28.962134Z",
     "start_time": "2017-05-09T23:59:28.943461Z"
    }
   },
   "outputs": [],
   "source": [
    "# 评价其在训练和测试数据上的预测效果（均方误差）\n"
   ]
  },
  {
   "cell_type": "code",
   "execution_count": null,
   "metadata": {
    "ExecuteTime": {
     "end_time": "2017-05-09T23:59:29.172915Z",
     "start_time": "2017-05-09T23:59:28.964448Z"
    }
   },
   "outputs": [],
   "source": [
    "# 将测试数据上的真实residual_sugar值和预测的值绘制成一个散点图\n"
   ]
  }
 ],
 "metadata": {
  "kernelspec": {
   "display_name": "Python 3",
   "language": "python",
   "name": "python3"
  },
  "language_info": {
   "codemirror_mode": {
    "name": "ipython",
    "version": 3
   },
   "file_extension": ".py",
   "mimetype": "text/x-python",
   "name": "python",
   "nbconvert_exporter": "python",
   "pygments_lexer": "ipython3",
   "version": "3.8.5"
  }
 },
 "nbformat": 4,
 "nbformat_minor": 2
}
